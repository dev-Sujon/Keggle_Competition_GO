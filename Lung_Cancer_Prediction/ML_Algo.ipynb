{
 "cells": [
  {
   "cell_type": "code",
   "execution_count": 1,
   "id": "34883e6e-f470-4513-9eed-befd8e63fc7a",
   "metadata": {},
   "outputs": [],
   "source": [
    "import pandas as pd \n",
    "import numpy as np\n",
    "import matplotlib.pyplot as plt \n",
    "import warnings\n",
    "warnings.filterwarnings('ignore')\n",
    "import os"
   ]
  },
  {
   "cell_type": "code",
   "execution_count": 6,
   "id": "8620e33a-02be-41d2-8cb7-8b19b7cf80fb",
   "metadata": {},
   "outputs": [],
   "source": [
    "from sklearn.linear_model import LogisticRegression\n",
    "from sklearn.ensemble import RandomForestClassifier\n",
    "from sklearn.svm import SVC\n",
    "from xgboost import XGBClassifier\n",
    "from sklearn.model_selection import GridSearchCV, StratifiedKFold\n",
    "from sklearn.metrics import classification_report, confusion_matrix, roc_auc_score\n",
    "import warnings\n",
    "warnings.filterwarnings('ignore')"
   ]
  },
  {
   "cell_type": "code",
   "execution_count": 2,
   "id": "1c249b4b-d66c-4508-83ab-d572cedf7605",
   "metadata": {},
   "outputs": [],
   "source": [
    "df_encoded = pd.read_csv('df_encoded.csv')"
   ]
  },
  {
   "cell_type": "code",
   "execution_count": 3,
   "id": "eff90845-3908-40c4-9228-92aec56830e5",
   "metadata": {},
   "outputs": [],
   "source": [
    "## Handle Class Imbalance \n",
    "df_encoded['survived'].value_counts(normalize=True)\n",
    "\n",
    "from imblearn.over_sampling import SMOTE\n",
    "\n",
    "X = df_encoded.drop('survived', axis=1)\n",
    "y = df_encoded['survived']\n",
    "\n",
    "sm = SMOTE(random_state=42)\n",
    "X_res, y_res = sm.fit_resample(X, y)\n",
    "\n",
    "from sklearn.preprocessing import StandardScaler\n",
    "\n",
    "scaler = StandardScaler()\n",
    "X_scaled = scaler.fit_transform(X_res)  # or X if no SMOTE\n",
    "\n",
    "# Optionally convert back to DataFrame\n",
    "X_scaled_df = pd.DataFrame(X_scaled, columns=X.columns)\n",
    "\n",
    "from sklearn.model_selection import train_test_split\n",
    "\n",
    "X_train, X_test, y_train, y_test = train_test_split(X_scaled, y_res, test_size=0.2, random_state=42, stratify=y_res)\n"
   ]
  },
  {
   "cell_type": "code",
   "execution_count": 5,
   "id": "d9e512a8-4294-4663-8fe6-e08dcc509c68",
   "metadata": {},
   "outputs": [
    {
     "name": "stdout",
     "output_type": "stream",
     "text": [
      "Shape of X_train : (1110393, 14)\n",
      "Shape of X_test: (277599, 14)\n",
      "Shape of y_train: (1110393,)\n",
      "Shape of y_test: (277599,)\n"
     ]
    }
   ],
   "source": [
    "print(\"Shape of X_train :\",X_train.shape)\n",
    "print(\"Shape of X_test:\",X_test.shape)\n",
    "print(\"Shape of y_train:\",y_train.shape)\n",
    "print(\"Shape of y_test:\",y_test.shape)"
   ]
  },
  {
   "cell_type": "code",
   "execution_count": 7,
   "id": "04613cd3-0822-492e-8f54-e1c91eb5ea33",
   "metadata": {},
   "outputs": [],
   "source": [
    "# Create a dictionary to hold models and parameter grids\n",
    "models_and_parameters = {\n",
    "    \"Logistic Regression\": {\n",
    "        \"model\": LogisticRegression(),\n",
    "        \"params\": {\n",
    "            'C': [0.01, 0.1, 1, 10],\n",
    "            'solver': ['liblinear', 'lbfgs'],\n",
    "            'class_weight': ['balanced', None]\n",
    "        }\n",
    "    },\n",
    "    \"Random Forest\": {\n",
    "        \"model\": RandomForestClassifier(random_state=42),\n",
    "        \"params\": {\n",
    "            'n_estimators': [100, 200],\n",
    "            'max_depth': [None, 10, 20],\n",
    "            'min_samples_split': [2, 5],\n",
    "            'class_weight': ['balanced']\n",
    "        }\n",
    "    },\n",
    "    \"SVM\": {\n",
    "        \"model\": SVC(probability=True),\n",
    "        \"params\": {\n",
    "            'C': [0.1, 1, 10],\n",
    "            'kernel': ['rbf', 'linear'],\n",
    "            'class_weight': ['balanced', None]\n",
    "        }\n",
    "    },\n",
    "    \"XGBoost\": {\n",
    "        \"model\": XGBClassifier(use_label_encoder=False, eval_metric='logloss'),\n",
    "        \"params\": {\n",
    "            'n_estimators': [100, 200],\n",
    "            'learning_rate': [0.01, 0.1],\n",
    "            'max_depth': [3, 5],\n",
    "            'scale_pos_weight': [1, 3]\n",
    "        }\n",
    "    }\n",
    "}"
   ]
  },
  {
   "cell_type": "code",
   "execution_count": 8,
   "id": "6af6efd8-e5ae-4477-aa0a-cc9f3029f16e",
   "metadata": {},
   "outputs": [
    {
     "data": {
      "text/plain": [
       "{'Logistic Regression': {'model': LogisticRegression(),\n",
       "  'params': {'C': [0.01, 0.1, 1, 10],\n",
       "   'solver': ['liblinear', 'lbfgs'],\n",
       "   'class_weight': ['balanced', None]}},\n",
       " 'Random Forest': {'model': RandomForestClassifier(random_state=42),\n",
       "  'params': {'n_estimators': [100, 200],\n",
       "   'max_depth': [None, 10, 20],\n",
       "   'min_samples_split': [2, 5],\n",
       "   'class_weight': ['balanced']}},\n",
       " 'SVM': {'model': SVC(probability=True),\n",
       "  'params': {'C': [0.1, 1, 10],\n",
       "   'kernel': ['rbf', 'linear'],\n",
       "   'class_weight': ['balanced', None]}},\n",
       " 'XGBoost': {'model': XGBClassifier(base_score=None, booster=None, callbacks=None,\n",
       "                colsample_bylevel=None, colsample_bynode=None,\n",
       "                colsample_bytree=None, device=None, early_stopping_rounds=None,\n",
       "                enable_categorical=False, eval_metric='logloss',\n",
       "                feature_types=None, feature_weights=None, gamma=None,\n",
       "                grow_policy=None, importance_type=None,\n",
       "                interaction_constraints=None, learning_rate=None, max_bin=None,\n",
       "                max_cat_threshold=None, max_cat_to_onehot=None,\n",
       "                max_delta_step=None, max_depth=None, max_leaves=None,\n",
       "                min_child_weight=None, missing=nan, monotone_constraints=None,\n",
       "                multi_strategy=None, n_estimators=None, n_jobs=None,\n",
       "                num_parallel_tree=None, ...),\n",
       "  'params': {'n_estimators': [100, 200],\n",
       "   'learning_rate': [0.01, 0.1],\n",
       "   'max_depth': [3, 5],\n",
       "   'scale_pos_weight': [1, 3]}}}"
      ]
     },
     "execution_count": 8,
     "metadata": {},
     "output_type": "execute_result"
    }
   ],
   "source": [
    "models_and_parameters"
   ]
  },
  {
   "cell_type": "code",
   "execution_count": null,
   "id": "d988d395-7ef7-4ffc-aa37-5538ed0939b1",
   "metadata": {},
   "outputs": [
    {
     "name": "stdout",
     "output_type": "stream",
     "text": [
      "\n",
      "🔍 Training and tuning Logistic Regression...\n",
      "\n",
      "🔍 Training and tuning Random Forest...\n"
     ]
    }
   ],
   "source": [
    "# Set up cross-validation\n",
    "cv = StratifiedKFold(n_splits=2, shuffle=True, random_state=42)  # n=2 because dataset is small\n",
    "\n",
    "# To store results\n",
    "results = {}\n",
    "\n",
    "# Perform grid search for each model\n",
    "for model_name, mp in models_and_parameters.items():\n",
    "    print(f\"\\n🔍 Training and tuning {model_name}...\")\n",
    "    grid = GridSearchCV(mp[\"model\"], mp[\"params\"], cv=cv, scoring='f1', n_jobs=-1)\n",
    "    grid.fit(X_train, y_train.values.ravel())\n",
    "    best_model = grid.best_estimator_\n",
    "    y_pred = best_model.predict(X_test)\n",
    "    y_proba = best_model.predict_proba(X_test)[:, 1] if hasattr(best_model, 'predict_proba') else None\n",
    "\n",
    "    results[model_name] = {\n",
    "        \"best_params\": grid.best_params_,\n",
    "        \"classification_report\": classification_report(y_test, y_pred, output_dict=True),\n",
    "        \"confusion_matrix\": confusion_matrix(y_test, y_pred).tolist(),\n",
    "        \"roc_auc\": roc_auc_score(y_test, y_proba) if y_proba is not None and len(set(y_test)) > 1 else None\n",
    "    }\n",
    "\n",
    "results\n"
   ]
  },
  {
   "cell_type": "code",
   "execution_count": null,
   "id": "58ae77f2-bbe8-4b31-8259-aeea7dc7e78c",
   "metadata": {},
   "outputs": [],
   "source": []
  }
 ],
 "metadata": {
  "kernelspec": {
   "display_name": "Python 3 (ipykernel)",
   "language": "python",
   "name": "python3"
  },
  "language_info": {
   "codemirror_mode": {
    "name": "ipython",
    "version": 3
   },
   "file_extension": ".py",
   "mimetype": "text/x-python",
   "name": "python",
   "nbconvert_exporter": "python",
   "pygments_lexer": "ipython3",
   "version": "3.12.7"
  }
 },
 "nbformat": 4,
 "nbformat_minor": 5
}
