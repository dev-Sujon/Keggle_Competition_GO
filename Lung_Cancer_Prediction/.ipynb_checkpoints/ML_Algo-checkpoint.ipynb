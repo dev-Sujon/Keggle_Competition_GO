{
 "cells": [
  {
   "cell_type": "code",
   "execution_count": 1,
   "id": "34883e6e-f470-4513-9eed-befd8e63fc7a",
   "metadata": {},
   "outputs": [],
   "source": [
    "import pandas as pd \n",
    "import numpy as np\n",
    "import matplotlib.pyplot as plt \n",
    "import warnings\n",
    "warnings.filterwarnings('ignore')\n",
    "import os"
   ]
  },
  {
   "cell_type": "code",
   "execution_count": 2,
   "id": "1c249b4b-d66c-4508-83ab-d572cedf7605",
   "metadata": {},
   "outputs": [],
   "source": [
    "df_encoded = pd.read_csv('df_encoded.csv')"
   ]
  },
  {
   "cell_type": "code",
   "execution_count": 3,
   "id": "eff90845-3908-40c4-9228-92aec56830e5",
   "metadata": {},
   "outputs": [],
   "source": [
    "## Handle Class Imbalance \n",
    "df_encoded['survived'].value_counts(normalize=True)\n",
    "\n",
    "from imblearn.over_sampling import SMOTE\n",
    "\n",
    "X = df_encoded.drop('survived', axis=1)\n",
    "y = df_encoded['survived']\n",
    "\n",
    "sm = SMOTE(random_state=42)\n",
    "X_res, y_res = sm.fit_resample(X, y)\n",
    "\n",
    "from sklearn.preprocessing import StandardScaler\n",
    "\n",
    "scaler = StandardScaler()\n",
    "X_scaled = scaler.fit_transform(X_res)  # or X if no SMOTE\n",
    "\n",
    "# Optionally convert back to DataFrame\n",
    "X_scaled_df = pd.DataFrame(X_scaled, columns=X.columns)\n",
    "\n",
    "from sklearn.model_selection import train_test_split\n",
    "\n",
    "X_train, X_test, y_train, y_test = train_test_split(X_scaled, y_res, test_size=0.2, random_state=42, stratify=y_res)\n"
   ]
  },
  {
   "cell_type": "code",
   "execution_count": null,
   "id": "d9e512a8-4294-4663-8fe6-e08dcc509c68",
   "metadata": {},
   "outputs": [],
   "source": []
  }
 ],
 "metadata": {
  "kernelspec": {
   "display_name": "Python 3 (ipykernel)",
   "language": "python",
   "name": "python3"
  },
  "language_info": {
   "codemirror_mode": {
    "name": "ipython",
    "version": 3
   },
   "file_extension": ".py",
   "mimetype": "text/x-python",
   "name": "python",
   "nbconvert_exporter": "python",
   "pygments_lexer": "ipython3",
   "version": "3.12.7"
  }
 },
 "nbformat": 4,
 "nbformat_minor": 5
}
